{
 "cells": [
  {
   "cell_type": "code",
   "execution_count": 3,
   "metadata": {
    "scrolled": true
   },
   "outputs": [
    {
     "name": "stderr",
     "output_type": "stream",
     "text": [
      "C:\\Users\\Jude Apana Yinime\\AppData\\Local\\Temp\\ipykernel_5968\\1531288566.py:10: ParserWarning: Falling back to the 'python' engine because the 'c' engine does not support regex separators (separators > 1 char and different from '\\s+' are interpreted as regex); you can avoid this warning by specifying engine='python'.\n",
      "  ratings = pd.read_csv('./ratings.dat', sep='::', encoding='latin-1', usecols=['userId', 'movieId', 'rating'])\n",
      "C:\\Users\\Jude Apana Yinime\\AppData\\Local\\Temp\\ipykernel_5968\\1531288566.py:12: ParserWarning: Falling back to the 'python' engine because the 'c' engine does not support regex separators (separators > 1 char and different from '\\s+' are interpreted as regex); you can avoid this warning by specifying engine='python'.\n",
      "  users = pd.read_csv('./users.dat', sep='::', encoding='latin-1', usecols=['userId', 'gender', 'age', 'occupation', 'zipcode'])\n",
      "C:\\Users\\Jude Apana Yinime\\AppData\\Local\\Temp\\ipykernel_5968\\1531288566.py:14: ParserWarning: Falling back to the 'python' engine because the 'c' engine does not support regex separators (separators > 1 char and different from '\\s+' are interpreted as regex); you can avoid this warning by specifying engine='python'.\n",
      "  movies = pd.read_csv('./movies.dat', sep='::', encoding='latin-1', usecols=['movieId', 'title', 'genres'])\n"
     ]
    }
   ],
   "source": [
    "import pandas as pd\n",
    "import numpy as np\n",
    "import matplotlib.pyplot as plt\n",
    "import seaborn as sns\n",
    "sns.set_style('whitegrid')\n",
    "import sklearn\n",
    "from sklearn.model_selection import cross_validate as cv\n",
    "from sklearn.metrics.pairwise import pairwise_distances\n",
    "\n",
    "ratings = pd.read_csv('./ratings.dat', sep='::', encoding='latin-1', usecols=['userId', 'movieId', 'rating'])\n",
    "\n",
    "users = pd.read_csv('./users.dat', sep='::', encoding='latin-1', usecols=['userId', 'gender', 'age', 'occupation', 'zipcode'])\n",
    "\n",
    "movies = pd.read_csv('./movies.dat', sep='::', encoding='latin-1', usecols=['movieId', 'title', 'genres'])"
   ]
  },
  {
   "cell_type": "code",
   "execution_count": 4,
   "metadata": {},
   "outputs": [
    {
     "name": "stdout",
     "output_type": "stream",
     "text": [
      "   userId gender  age  occupation zipcode\n",
      "0       1      F    1          10   48067\n",
      "1       2      M   56          16   70072\n",
      "2       3      M   25          15   55117\n",
      "3       4      M   45           7   02460\n",
      "4       5      M   25          20   55455\n"
     ]
    }
   ],
   "source": [
    "print(users.head())"
   ]
  },
  {
   "cell_type": "code",
   "execution_count": 3,
   "metadata": {},
   "outputs": [
    {
     "name": "stdout",
     "output_type": "stream",
     "text": [
      "   userId  movieId  rating\n",
      "0       1     1193       5\n",
      "1       1      661       3\n",
      "2       1      914       3\n",
      "3       1     3408       4\n",
      "4       1     2355       5\n"
     ]
    }
   ],
   "source": [
    "print(ratings.head())"
   ]
  },
  {
   "cell_type": "code",
   "execution_count": 4,
   "metadata": {},
   "outputs": [
    {
     "name": "stdout",
     "output_type": "stream",
     "text": [
      "   movieId                               title                        genres\n",
      "0        1                    Toy Story (1995)   Animation|Children's|Comedy\n",
      "1        2                      Jumanji (1995)  Adventure|Children's|Fantasy\n",
      "2        3             Grumpier Old Men (1995)                Comedy|Romance\n",
      "3        4            Waiting to Exhale (1995)                  Comedy|Drama\n",
      "4        5  Father of the Bride Part II (1995)                        Comedy\n"
     ]
    }
   ],
   "source": [
    "print(movies.head())"
   ]
  },
  {
   "cell_type": "code",
   "execution_count": 5,
   "metadata": {},
   "outputs": [
    {
     "name": "stderr",
     "output_type": "stream",
     "text": [
      "C:\\Users\\Jude Apana Yinime\\AppData\\Local\\Temp\\ipykernel_5968\\2134419950.py:1: UserWarning: \n",
      "\n",
      "`distplot` is a deprecated function and will be removed in seaborn v0.14.0.\n",
      "\n",
      "Please adapt your code to use either `displot` (a figure-level function with\n",
      "similar flexibility) or `histplot` (an axes-level function for histograms).\n",
      "\n",
      "For a guide to updating your code to use the new functions, please see\n",
      "https://gist.github.com/mwaskom/de44147ed2974457ad6372750bbe5751\n",
      "\n",
      "  sns.distplot(ratings['rating'].fillna(ratings['rating'].median()))\n"
     ]
    },
    {
     "data": {
      "text/plain": [
       "<Axes: xlabel='rating', ylabel='Density'>"
      ]
     },
     "execution_count": 5,
     "metadata": {},
     "output_type": "execute_result"
    },
    {
     "data": {
      "image/png": "[encoded data removed]",
      "text/plain": [
       "<Figure size 640x480 with 1 Axes>"
      ]
     },
     "metadata": {},
     "output_type": "display_data"
    }
   ],
   "source": [
    "sns.distplot(ratings['rating'].fillna(ratings['rating'].median()))"
   ]
  },
  {
   "cell_type": "code",
   "execution_count": 6,
   "metadata": {},
   "outputs": [
    {
     "data": {
      "text/html": [
       "<div>\n",
       "<style scoped>\n",
       "    .dataframe tbody tr th:only-of-type {\n",
       "        vertical-align: middle;\n",
       "    }\n",
       "\n",
       "    .dataframe tbody tr th {\n",
       "        vertical-align: top;\n",
       "    }\n",
       "\n",
       "    .dataframe thead th {\n",
       "        text-align: right;\n",
       "    }\n",
       "</style>\n",
       "<table border=\"1\" class=\"dataframe\">\n",
       "  <thead>\n",
       "    <tr style=\"text-align: right;\">\n",
       "      <th></th>\n",
       "      <th>title</th>\n",
       "      <th>genres</th>\n",
       "      <th>rating</th>\n",
       "    </tr>\n",
       "  </thead>\n",
       "  <tbody>\n",
       "    <tr>\n",
       "      <th>0</th>\n",
       "      <td>Toy Story (1995)</td>\n",
       "      <td>Animation|Children's|Comedy</td>\n",
       "      <td>5</td>\n",
       "    </tr>\n",
       "    <tr>\n",
       "      <th>489283</th>\n",
       "      <td>American Beauty (1999)</td>\n",
       "      <td>Comedy|Drama</td>\n",
       "      <td>5</td>\n",
       "    </tr>\n",
       "    <tr>\n",
       "      <th>489259</th>\n",
       "      <td>Election (1999)</td>\n",
       "      <td>Comedy</td>\n",
       "      <td>5</td>\n",
       "    </tr>\n",
       "    <tr>\n",
       "      <th>489257</th>\n",
       "      <td>Matrix, The (1999)</td>\n",
       "      <td>Action|Sci-Fi|Thriller</td>\n",
       "      <td>5</td>\n",
       "    </tr>\n",
       "    <tr>\n",
       "      <th>489256</th>\n",
       "      <td>Dead Ringers (1988)</td>\n",
       "      <td>Drama|Thriller</td>\n",
       "      <td>5</td>\n",
       "    </tr>\n",
       "    <tr>\n",
       "      <th>489237</th>\n",
       "      <td>Rushmore (1998)</td>\n",
       "      <td>Comedy</td>\n",
       "      <td>5</td>\n",
       "    </tr>\n",
       "    <tr>\n",
       "      <th>489236</th>\n",
       "      <td>Simple Plan, A (1998)</td>\n",
       "      <td>Crime|Thriller</td>\n",
       "      <td>5</td>\n",
       "    </tr>\n",
       "    <tr>\n",
       "      <th>489226</th>\n",
       "      <td>Hands on a Hard Body (1996)</td>\n",
       "      <td>Documentary</td>\n",
       "      <td>5</td>\n",
       "    </tr>\n",
       "    <tr>\n",
       "      <th>489224</th>\n",
       "      <td>Pleasantville (1998)</td>\n",
       "      <td>Comedy</td>\n",
       "      <td>5</td>\n",
       "    </tr>\n",
       "    <tr>\n",
       "      <th>489212</th>\n",
       "      <td>Say Anything... (1989)</td>\n",
       "      <td>Comedy|Drama|Romance</td>\n",
       "      <td>5</td>\n",
       "    </tr>\n",
       "    <tr>\n",
       "      <th>489207</th>\n",
       "      <td>Beetlejuice (1988)</td>\n",
       "      <td>Comedy|Fantasy</td>\n",
       "      <td>5</td>\n",
       "    </tr>\n",
       "    <tr>\n",
       "      <th>489190</th>\n",
       "      <td>Roger &amp; Me (1989)</td>\n",
       "      <td>Comedy|Documentary</td>\n",
       "      <td>5</td>\n",
       "    </tr>\n",
       "    <tr>\n",
       "      <th>489172</th>\n",
       "      <td>Buffalo 66 (1998)</td>\n",
       "      <td>Action|Comedy|Drama</td>\n",
       "      <td>5</td>\n",
       "    </tr>\n",
       "    <tr>\n",
       "      <th>489171</th>\n",
       "      <td>Out of Sight (1998)</td>\n",
       "      <td>Action|Crime|Romance</td>\n",
       "      <td>5</td>\n",
       "    </tr>\n",
       "    <tr>\n",
       "      <th>489170</th>\n",
       "      <td>I Went Down (1997)</td>\n",
       "      <td>Action|Comedy|Crime</td>\n",
       "      <td>5</td>\n",
       "    </tr>\n",
       "    <tr>\n",
       "      <th>489168</th>\n",
       "      <td>Opposite of Sex, The (1998)</td>\n",
       "      <td>Comedy|Drama</td>\n",
       "      <td>5</td>\n",
       "    </tr>\n",
       "    <tr>\n",
       "      <th>489157</th>\n",
       "      <td>Good Will Hunting (1997)</td>\n",
       "      <td>Drama</td>\n",
       "      <td>5</td>\n",
       "    </tr>\n",
       "    <tr>\n",
       "      <th>489152</th>\n",
       "      <td>Fast, Cheap &amp; Out of Control (1997)</td>\n",
       "      <td>Documentary</td>\n",
       "      <td>5</td>\n",
       "    </tr>\n",
       "    <tr>\n",
       "      <th>489149</th>\n",
       "      <td>L.A. Confidential (1997)</td>\n",
       "      <td>Crime|Film-Noir|Mystery|Thriller</td>\n",
       "      <td>5</td>\n",
       "    </tr>\n",
       "    <tr>\n",
       "      <th>489145</th>\n",
       "      <td>Contact (1997)</td>\n",
       "      <td>Drama|Sci-Fi</td>\n",
       "      <td>5</td>\n",
       "    </tr>\n",
       "  </tbody>\n",
       "</table>\n",
       "</div>"
      ],
      "text/plain": [
       "                                      title                            genres  \\\n",
       "0                          Toy Story (1995)       Animation|Children's|Comedy   \n",
       "489283               American Beauty (1999)                      Comedy|Drama   \n",
       "489259                      Election (1999)                            Comedy   \n",
       "489257                   Matrix, The (1999)            Action|Sci-Fi|Thriller   \n",
       "489256                  Dead Ringers (1988)                    Drama|Thriller   \n",
       "489237                      Rushmore (1998)                            Comedy   \n",
       "489236                Simple Plan, A (1998)                    Crime|Thriller   \n",
       "489226          Hands on a Hard Body (1996)                       Documentary   \n",
       "489224                 Pleasantville (1998)                            Comedy   \n",
       "489212               Say Anything... (1989)              Comedy|Drama|Romance   \n",
       "489207                   Beetlejuice (1988)                    Comedy|Fantasy   \n",
       "489190                    Roger & Me (1989)                Comedy|Documentary   \n",
       "489172                    Buffalo 66 (1998)               Action|Comedy|Drama   \n",
       "489171                  Out of Sight (1998)              Action|Crime|Romance   \n",
       "489170                   I Went Down (1997)               Action|Comedy|Crime   \n",
       "489168          Opposite of Sex, The (1998)                      Comedy|Drama   \n",
       "489157             Good Will Hunting (1997)                             Drama   \n",
       "489152  Fast, Cheap & Out of Control (1997)                       Documentary   \n",
       "489149             L.A. Confidential (1997)  Crime|Film-Noir|Mystery|Thriller   \n",
       "489145                       Contact (1997)                      Drama|Sci-Fi   \n",
       "\n",
       "        rating  \n",
       "0            5  \n",
       "489283       5  \n",
       "489259       5  \n",
       "489257       5  \n",
       "489256       5  \n",
       "489237       5  \n",
       "489236       5  \n",
       "489226       5  \n",
       "489224       5  \n",
       "489212       5  \n",
       "489207       5  \n",
       "489190       5  \n",
       "489172       5  \n",
       "489171       5  \n",
       "489170       5  \n",
       "489168       5  \n",
       "489157       5  \n",
       "489152       5  \n",
       "489149       5  \n",
       "489145       5  "
      ]
     },
     "execution_count": 6,
     "metadata": {},
     "output_type": "execute_result"
    }
   ],
   "source": [
    "dataset = pd.merge(pd.merge(movies, ratings),users)\n",
    "dataset[['title','genres','rating']].sort_values('rating', ascending=False).head(20)"
   ]
  },
  {
   "cell_type": "code",
   "execution_count": 7,
   "metadata": {},
   "outputs": [],
   "source": [
    "ratings['userId'] = ratings['userId'].fillna(0)\n",
    "ratings['movieId'] = ratings['movieId'].fillna(0)\n",
    "ratings['rating'] = ratings['rating'].fillna(ratings['rating'].mean())"
   ]
  },
  {
   "cell_type": "code",
   "execution_count": 8,
   "metadata": {},
   "outputs": [],
   "source": [
    "small_data = ratings.sample(frac=0.02)"
   ]
  },
  {
   "cell_type": "code",
   "execution_count": 9,
   "metadata": {},
   "outputs": [
    {
     "name": "stdout",
     "output_type": "stream",
     "text": [
      "<class 'pandas.core.frame.DataFrame'>\n",
      "Int64Index: 20004 entries, 445600 to 951077\n",
      "Data columns (total 3 columns):\n",
      " #   Column   Non-Null Count  Dtype\n",
      "---  ------   --------------  -----\n",
      " 0   userId   20004 non-null  int64\n",
      " 1   movieId  20004 non-null  int64\n",
      " 2   rating   20004 non-null  int64\n",
      "dtypes: int64(3)\n",
      "memory usage: 625.1 KB\n",
      "None\n"
     ]
    }
   ],
   "source": [
    "print(small_data.info())"
   ]
  },
  {
   "cell_type": "code",
   "execution_count": 10,
   "metadata": {
    "scrolled": true
   },
   "outputs": [],
   "source": [
    "from surprise import Reader, Dataset\n",
    "reader = Reader()\n",
    "data = Dataset.load_from_df(ratings, reader)"
   ]
  },
  {
   "cell_type": "code",
   "execution_count": 11,
   "metadata": {},
   "outputs": [],
   "source": [
    "from surprise.model_selection import train_test_split\n",
    "trainset, testset = train_test_split(data, test_size=0.2)"
   ]
  },
  {
   "cell_type": "code",
   "execution_count": 12,
   "metadata": {},
   "outputs": [],
   "source": [
    "from surprise import SVD, accuracy\n",
    "model = SVD()\n",
    "model.fit(trainset)\n",
    "predictions = model.test(testset)"
   ]
  },
  {
   "cell_type": "code",
   "execution_count": 13,
   "metadata": {},
   "outputs": [
    {
     "name": "stdout",
     "output_type": "stream",
     "text": [
      "RMSE: 0.8751\n"
     ]
    }
   ],
   "source": [
    "acc = accuracy.rmse(predictions)"
   ]
  },
  {
   "cell_type": "code",
   "execution_count": 14,
   "metadata": {},
   "outputs": [
    {
     "name": "stdout",
     "output_type": "stream",
     "text": [
      "MAE:  0.6858\n"
     ]
    }
   ],
   "source": [
    "acc2 = accuracy.mae(predictions)"
   ]
  },
  {
   "cell_type": "code",
   "execution_count": 16,
   "metadata": {},
   "outputs": [
    {
     "name": "stdout",
     "output_type": "stream",
     "text": [
      "user: 50         item: 2000       r_ui = 3.00   est = 3.58   {'was_impossible': False}\n"
     ]
    }
   ],
   "source": [
    "userid = str(50)\n",
    "movieid = str(2000)\n",
    "\n",
    "pred = model.predict(userid, movieid, r_ui=3, verbose=True)"
   ]
  },
  {
   "cell_type": "code",
   "execution_count": 18,
   "metadata": {},
   "outputs": [
    {
     "name": "stdout",
     "output_type": "stream",
     "text": [
      "user: 50         item: 2058       r_ui = 3.00   est = 3.58   {'was_impossible': False}\n"
     ]
    }
   ],
   "source": [
    "movieid = str(2058)\n",
    "pred = model.predict(userid, movieid, r_ui=3, verbose=True)"
   ]
  },
  {
   "cell_type": "code",
   "execution_count": 19,
   "metadata": {},
   "outputs": [
    {
     "name": "stdout",
     "output_type": "stream",
     "text": [
      "Computing the msd similarity matrix...\n",
      "Done computing similarity matrix.\n",
      "RMSE: 0.9248\n",
      "MAE:  0.7280\n",
      "Accuracy 0.9247593697014387\n",
      "Accuracy2 mae 0.728033144316776\n"
     ]
    }
   ],
   "source": [
    "from surprise import KNNBasic\n",
    "\n",
    "model = KNNBasic()\n",
    "model.fit(trainset)\n",
    "predictions = model.test(testset)\n",
    "acc = accuracy.rmse(predictions)\n",
    "acc2 = accuracy.mae(predictions)\n",
    "print('Accuracy', acc)\n",
    "print('Accuracy2 mae', acc2)"
   ]
  },
  {
   "cell_type": "code",
   "execution_count": 20,
   "metadata": {},
   "outputs": [
    {
     "name": "stdout",
     "output_type": "stream",
     "text": [
      "user: 1          item: 1193       r_ui = 5.00   est = 3.58   {'was_impossible': True, 'reason': 'User and/or item is unknown.'}\n"
     ]
    }
   ],
   "source": [
    "userid = str(1)\n",
    "movieid = str(1193)\n",
    "pred = model.predict(userid, movieid, r_ui=5, verbose=True)"
   ]
  },
  {
   "cell_type": "code",
   "execution_count": 28,
   "metadata": {},
   "outputs": [
    {
     "name": "stdout",
     "output_type": "stream",
     "text": [
      "look at the first column\n"
     ]
    }
   ],
   "source": [
    "print('look at the first column')"
   ]
  },
  {
   "cell_type": "code",
   "execution_count": null,
   "metadata": {},
   "outputs": [],
   "source": []
  }
 ],
 "metadata": {
  "kernelspec": {
   "display_name": "Python 3 (ipykernel)",
   "language": "python",
   "name": "python3"
  },
  "language_info": {
   "codemirror_mode": {
    "name": "ipython",
    "version": 3
   },
   "file_extension": ".py",
   "mimetype": "text/x-python",
   "name": "python",
   "nbconvert_exporter": "python",
   "pygments_lexer": "ipython3",
   "version": "3.11.4"
  }
 },
 "nbformat": 4,
 "nbformat_minor": 2
}
